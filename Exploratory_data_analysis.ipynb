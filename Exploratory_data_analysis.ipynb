{
 "cells": [
  {
   "cell_type": "code",
   "execution_count": 66,
   "id": "67f8a44e",
   "metadata": {},
   "outputs": [],
   "source": [
    "import pandas as pd\n",
    "import numpy as np\n",
    "import matplotlib.pyplot as plt\n",
    "import seaborn as sns\n",
    "from sklearn.ensemble import RandomForestRegressor\n",
    "from sklearn.model_selection import train_test_split\n",
    "from sklearn.model_selection import cross_val_score\n",
    "import statsmodels.api as sm\n",
    "from sklearn.linear_model import LinearRegression, Lasso\n",
    "from wordcloud import WordCloud, STOPWORDS, ImageColorGenerator\n",
    "from nltk.corpus import stopwords\n",
    "from nltk.tokenize import word_tokenize"
   ]
  },
  {
   "cell_type": "code",
   "execution_count": 41,
   "id": "17393da3",
   "metadata": {},
   "outputs": [],
   "source": [
    "df = pd.read_csv('Cleaned_Data_final.csv')"
   ]
  },
  {
   "cell_type": "markdown",
   "id": "c4dd627c",
   "metadata": {},
   "source": [
    "### EXPLORATORY DATA ANALYSIS"
   ]
  },
  {
   "cell_type": "code",
   "execution_count": 42,
   "id": "74c08108",
   "metadata": {},
   "outputs": [
    {
     "data": {
      "text/html": [
       "<div>\n",
       "<style scoped>\n",
       "    .dataframe tbody tr th:only-of-type {\n",
       "        vertical-align: middle;\n",
       "    }\n",
       "\n",
       "    .dataframe tbody tr th {\n",
       "        vertical-align: top;\n",
       "    }\n",
       "\n",
       "    .dataframe thead th {\n",
       "        text-align: right;\n",
       "    }\n",
       "</style>\n",
       "<table border=\"1\" class=\"dataframe\">\n",
       "  <thead>\n",
       "    <tr style=\"text-align: right;\">\n",
       "      <th></th>\n",
       "      <th>Rating</th>\n",
       "      <th>Founded</th>\n",
       "      <th>size_desc</th>\n",
       "      <th>age</th>\n",
       "      <th>Per_Hour</th>\n",
       "      <th>EPS</th>\n",
       "      <th>min_salary</th>\n",
       "      <th>max_salary</th>\n",
       "      <th>average_salary</th>\n",
       "      <th>same_loc</th>\n",
       "      <th>python</th>\n",
       "      <th>Masters</th>\n",
       "      <th>R</th>\n",
       "      <th>SQL</th>\n",
       "      <th>spark</th>\n",
       "      <th>aws</th>\n",
       "      <th>excel</th>\n",
       "      <th>total_comp</th>\n",
       "    </tr>\n",
       "  </thead>\n",
       "  <tbody>\n",
       "    <tr>\n",
       "      <th>count</th>\n",
       "      <td>742.000000</td>\n",
       "      <td>742.000000</td>\n",
       "      <td>742.000000</td>\n",
       "      <td>742.000000</td>\n",
       "      <td>742.000000</td>\n",
       "      <td>742.000000</td>\n",
       "      <td>742.000000</td>\n",
       "      <td>742.000000</td>\n",
       "      <td>742.000000</td>\n",
       "      <td>742.000000</td>\n",
       "      <td>742.000000</td>\n",
       "      <td>742.000000</td>\n",
       "      <td>742.000000</td>\n",
       "      <td>742.000000</td>\n",
       "      <td>742.000000</td>\n",
       "      <td>742.000000</td>\n",
       "      <td>742.000000</td>\n",
       "      <td>742.000000</td>\n",
       "    </tr>\n",
       "    <tr>\n",
       "      <th>mean</th>\n",
       "      <td>3.618868</td>\n",
       "      <td>1837.154987</td>\n",
       "      <td>3869.545822</td>\n",
       "      <td>48.456873</td>\n",
       "      <td>0.032345</td>\n",
       "      <td>0.022911</td>\n",
       "      <td>74.719677</td>\n",
       "      <td>128.149596</td>\n",
       "      <td>100.626011</td>\n",
       "      <td>0.557951</td>\n",
       "      <td>0.528302</td>\n",
       "      <td>0.339623</td>\n",
       "      <td>0.002695</td>\n",
       "      <td>0.512129</td>\n",
       "      <td>0.225067</td>\n",
       "      <td>0.237197</td>\n",
       "      <td>0.522911</td>\n",
       "      <td>1.053908</td>\n",
       "    </tr>\n",
       "    <tr>\n",
       "      <th>std</th>\n",
       "      <td>0.801210</td>\n",
       "      <td>497.183763</td>\n",
       "      <td>1521.495868</td>\n",
       "      <td>53.900445</td>\n",
       "      <td>0.177034</td>\n",
       "      <td>0.149721</td>\n",
       "      <td>30.980593</td>\n",
       "      <td>45.220324</td>\n",
       "      <td>38.855948</td>\n",
       "      <td>0.496965</td>\n",
       "      <td>0.499535</td>\n",
       "      <td>0.473901</td>\n",
       "      <td>0.051882</td>\n",
       "      <td>0.500190</td>\n",
       "      <td>0.417908</td>\n",
       "      <td>0.425651</td>\n",
       "      <td>0.499812</td>\n",
       "      <td>1.384239</td>\n",
       "    </tr>\n",
       "    <tr>\n",
       "      <th>min</th>\n",
       "      <td>-1.000000</td>\n",
       "      <td>-1.000000</td>\n",
       "      <td>407.000000</td>\n",
       "      <td>-1.000000</td>\n",
       "      <td>0.000000</td>\n",
       "      <td>0.000000</td>\n",
       "      <td>15.000000</td>\n",
       "      <td>16.000000</td>\n",
       "      <td>13.500000</td>\n",
       "      <td>0.000000</td>\n",
       "      <td>0.000000</td>\n",
       "      <td>0.000000</td>\n",
       "      <td>0.000000</td>\n",
       "      <td>0.000000</td>\n",
       "      <td>0.000000</td>\n",
       "      <td>0.000000</td>\n",
       "      <td>0.000000</td>\n",
       "      <td>0.000000</td>\n",
       "    </tr>\n",
       "    <tr>\n",
       "      <th>25%</th>\n",
       "      <td>3.300000</td>\n",
       "      <td>1939.000000</td>\n",
       "      <td>2801.000000</td>\n",
       "      <td>13.000000</td>\n",
       "      <td>0.000000</td>\n",
       "      <td>0.000000</td>\n",
       "      <td>52.000000</td>\n",
       "      <td>96.000000</td>\n",
       "      <td>73.500000</td>\n",
       "      <td>0.000000</td>\n",
       "      <td>0.000000</td>\n",
       "      <td>0.000000</td>\n",
       "      <td>0.000000</td>\n",
       "      <td>0.000000</td>\n",
       "      <td>0.000000</td>\n",
       "      <td>0.000000</td>\n",
       "      <td>0.000000</td>\n",
       "      <td>0.000000</td>\n",
       "    </tr>\n",
       "    <tr>\n",
       "      <th>50%</th>\n",
       "      <td>3.700000</td>\n",
       "      <td>1988.000000</td>\n",
       "      <td>3731.000000</td>\n",
       "      <td>26.000000</td>\n",
       "      <td>0.000000</td>\n",
       "      <td>0.000000</td>\n",
       "      <td>69.500000</td>\n",
       "      <td>124.000000</td>\n",
       "      <td>97.500000</td>\n",
       "      <td>1.000000</td>\n",
       "      <td>1.000000</td>\n",
       "      <td>0.000000</td>\n",
       "      <td>0.000000</td>\n",
       "      <td>1.000000</td>\n",
       "      <td>0.000000</td>\n",
       "      <td>0.000000</td>\n",
       "      <td>1.000000</td>\n",
       "      <td>0.000000</td>\n",
       "    </tr>\n",
       "    <tr>\n",
       "      <th>75%</th>\n",
       "      <td>4.000000</td>\n",
       "      <td>2007.000000</td>\n",
       "      <td>4740.000000</td>\n",
       "      <td>61.000000</td>\n",
       "      <td>0.000000</td>\n",
       "      <td>0.000000</td>\n",
       "      <td>91.000000</td>\n",
       "      <td>155.000000</td>\n",
       "      <td>122.500000</td>\n",
       "      <td>1.000000</td>\n",
       "      <td>1.000000</td>\n",
       "      <td>1.000000</td>\n",
       "      <td>0.000000</td>\n",
       "      <td>1.000000</td>\n",
       "      <td>0.000000</td>\n",
       "      <td>0.000000</td>\n",
       "      <td>1.000000</td>\n",
       "      <td>3.000000</td>\n",
       "    </tr>\n",
       "    <tr>\n",
       "      <th>max</th>\n",
       "      <td>5.000000</td>\n",
       "      <td>2019.000000</td>\n",
       "      <td>10051.000000</td>\n",
       "      <td>278.000000</td>\n",
       "      <td>1.000000</td>\n",
       "      <td>1.000000</td>\n",
       "      <td>202.000000</td>\n",
       "      <td>306.000000</td>\n",
       "      <td>254.000000</td>\n",
       "      <td>1.000000</td>\n",
       "      <td>1.000000</td>\n",
       "      <td>1.000000</td>\n",
       "      <td>1.000000</td>\n",
       "      <td>1.000000</td>\n",
       "      <td>1.000000</td>\n",
       "      <td>1.000000</td>\n",
       "      <td>1.000000</td>\n",
       "      <td>4.000000</td>\n",
       "    </tr>\n",
       "  </tbody>\n",
       "</table>\n",
       "</div>"
      ],
      "text/plain": [
       "           Rating      Founded     size_desc         age    Per_Hour  \\\n",
       "count  742.000000   742.000000    742.000000  742.000000  742.000000   \n",
       "mean     3.618868  1837.154987   3869.545822   48.456873    0.032345   \n",
       "std      0.801210   497.183763   1521.495868   53.900445    0.177034   \n",
       "min     -1.000000    -1.000000    407.000000   -1.000000    0.000000   \n",
       "25%      3.300000  1939.000000   2801.000000   13.000000    0.000000   \n",
       "50%      3.700000  1988.000000   3731.000000   26.000000    0.000000   \n",
       "75%      4.000000  2007.000000   4740.000000   61.000000    0.000000   \n",
       "max      5.000000  2019.000000  10051.000000  278.000000    1.000000   \n",
       "\n",
       "              EPS  min_salary  max_salary  average_salary    same_loc  \\\n",
       "count  742.000000  742.000000  742.000000      742.000000  742.000000   \n",
       "mean     0.022911   74.719677  128.149596      100.626011    0.557951   \n",
       "std      0.149721   30.980593   45.220324       38.855948    0.496965   \n",
       "min      0.000000   15.000000   16.000000       13.500000    0.000000   \n",
       "25%      0.000000   52.000000   96.000000       73.500000    0.000000   \n",
       "50%      0.000000   69.500000  124.000000       97.500000    1.000000   \n",
       "75%      0.000000   91.000000  155.000000      122.500000    1.000000   \n",
       "max      1.000000  202.000000  306.000000      254.000000    1.000000   \n",
       "\n",
       "           python     Masters           R         SQL       spark         aws  \\\n",
       "count  742.000000  742.000000  742.000000  742.000000  742.000000  742.000000   \n",
       "mean     0.528302    0.339623    0.002695    0.512129    0.225067    0.237197   \n",
       "std      0.499535    0.473901    0.051882    0.500190    0.417908    0.425651   \n",
       "min      0.000000    0.000000    0.000000    0.000000    0.000000    0.000000   \n",
       "25%      0.000000    0.000000    0.000000    0.000000    0.000000    0.000000   \n",
       "50%      1.000000    0.000000    0.000000    1.000000    0.000000    0.000000   \n",
       "75%      1.000000    1.000000    0.000000    1.000000    0.000000    0.000000   \n",
       "max      1.000000    1.000000    1.000000    1.000000    1.000000    1.000000   \n",
       "\n",
       "            excel  total_comp  \n",
       "count  742.000000  742.000000  \n",
       "mean     0.522911    1.053908  \n",
       "std      0.499812    1.384239  \n",
       "min      0.000000    0.000000  \n",
       "25%      0.000000    0.000000  \n",
       "50%      1.000000    0.000000  \n",
       "75%      1.000000    3.000000  \n",
       "max      1.000000    4.000000  "
      ]
     },
     "execution_count": 42,
     "metadata": {},
     "output_type": "execute_result"
    }
   ],
   "source": [
    "df.describe()"
   ]
  },
  {
   "cell_type": "code",
   "execution_count": 43,
   "id": "6274fca6",
   "metadata": {},
   "outputs": [
    {
     "data": {
      "text/plain": [
       "<AxesSubplot:>"
      ]
     },
     "execution_count": 43,
     "metadata": {},
     "output_type": "execute_result"
    },
    {
     "data": {
      "image/png": "[encoded data removed]",
      "text/plain": [
       "<Figure size 432x288 with 1 Axes>"
      ]
     },
     "metadata": {
      "needs_background": "light"
     },
     "output_type": "display_data"
    }
   ],
   "source": [
    "df.boxplot(column = 'Rating') # outliers present where then rating has been"
   ]
  },
  {
   "cell_type": "code",
   "execution_count": 44,
   "id": "442ad782",
   "metadata": {},
   "outputs": [
    {
     "data": {
      "text/plain": [
       "<AxesSubplot:>"
      ]
     },
     "execution_count": 44,
     "metadata": {},
     "output_type": "execute_result"
    },
    {
     "data": {
      "image/png": "[encoded data removed]",
      "text/plain": [
       "<Figure size 432x288 with 1 Axes>"
      ]
     },
     "metadata": {
      "needs_background": "light"
     },
     "output_type": "display_data"
    }
   ],
   "source": [
    "df['average_salary'].hist() "
   ]
  },
  {
   "cell_type": "code",
   "execution_count": 45,
   "id": "dae63c2a",
   "metadata": {},
   "outputs": [
    {
     "data": {
      "text/plain": [
       "<AxesSubplot:>"
      ]
     },
     "execution_count": 45,
     "metadata": {},
     "output_type": "execute_result"
    },
    {
     "data": {
      "image/png": "[encoded data removed]",
      "text/plain": [
       "<Figure size 432x288 with 1 Axes>"
      ]
     },
     "metadata": {
      "needs_background": "light"
     },
     "output_type": "display_data"
    }
   ],
   "source": [
    "df['Rating'].hist() # more likely left skewed"
   ]
  },
  {
   "cell_type": "code",
   "execution_count": 46,
   "id": "9c527af1",
   "metadata": {},
   "outputs": [
    {
     "data": {
      "text/plain": [
       "<AxesSubplot:>"
      ]
     },
     "execution_count": 46,
     "metadata": {},
     "output_type": "execute_result"
    },
    {
     "data": {
      "image/png": "[encoded data removed]",
      "text/plain": [
       "<Figure size 432x288 with 1 Axes>"
      ]
     },
     "metadata": {
      "needs_background": "light"
     },
     "output_type": "display_data"
    }
   ],
   "source": [
    "df['age'].hist() # more like right skewed and seems like it follows an exponential pattern"
   ]
  },
  {
   "cell_type": "code",
   "execution_count": 47,
   "id": "3f9947a7",
   "metadata": {},
   "outputs": [
    {
     "data": {
      "text/plain": [
       "<AxesSubplot:>"
      ]
     },
     "execution_count": 47,
     "metadata": {},
     "output_type": "execute_result"
    },
    {
     "data": {
      "image/png": "[encoded data removed]",
      "text/plain": [
       "<Figure size 432x288 with 1 Axes>"
      ]
     },
     "metadata": {
      "needs_background": "light"
     },
     "output_type": "display_data"
    }
   ],
   "source": [
    "df.size_desc.hist() # more normally distributed"
   ]
  },
  {
   "cell_type": "code",
   "execution_count": 48,
   "id": "15b66e92",
   "metadata": {},
   "outputs": [
    {
     "data": {
      "text/plain": [
       "<AxesSubplot:>"
      ]
     },
     "execution_count": 48,
     "metadata": {},
     "output_type": "execute_result"
    },
    {
     "data": {
      "image/png": "[encoded data removed]",
      "text/plain": [
       "<Figure size 432x288 with 1 Axes>"
      ]
     },
     "metadata": {
      "needs_background": "light"
     },
     "output_type": "display_data"
    }
   ],
   "source": [
    "df.boxplot(column = ['age','average_salary','Rating']) # so a lot of outliers present with some old companies and in average salary"
   ]
  },
  {
   "cell_type": "code",
   "execution_count": 49,
   "id": "87238814",
   "metadata": {},
   "outputs": [
    {
     "data": {
      "text/html": [
       "<div>\n",
       "<style scoped>\n",
       "    .dataframe tbody tr th:only-of-type {\n",
       "        vertical-align: middle;\n",
       "    }\n",
       "\n",
       "    .dataframe tbody tr th {\n",
       "        vertical-align: top;\n",
       "    }\n",
       "\n",
       "    .dataframe thead th {\n",
       "        text-align: right;\n",
       "    }\n",
       "</style>\n",
       "<table border=\"1\" class=\"dataframe\">\n",
       "  <thead>\n",
       "    <tr style=\"text-align: right;\">\n",
       "      <th></th>\n",
       "      <th>age</th>\n",
       "      <th>average_salary</th>\n",
       "      <th>Rating</th>\n",
       "      <th>size_desc</th>\n",
       "      <th>total_comp</th>\n",
       "    </tr>\n",
       "  </thead>\n",
       "  <tbody>\n",
       "    <tr>\n",
       "      <th>age</th>\n",
       "      <td>1.000000</td>\n",
       "      <td>0.019492</td>\n",
       "      <td>0.024665</td>\n",
       "      <td>0.164461</td>\n",
       "      <td>0.128272</td>\n",
       "    </tr>\n",
       "    <tr>\n",
       "      <th>average_salary</th>\n",
       "      <td>0.019492</td>\n",
       "      <td>1.000000</td>\n",
       "      <td>0.013492</td>\n",
       "      <td>0.078808</td>\n",
       "      <td>0.093813</td>\n",
       "    </tr>\n",
       "    <tr>\n",
       "      <th>Rating</th>\n",
       "      <td>0.024665</td>\n",
       "      <td>0.013492</td>\n",
       "      <td>1.000000</td>\n",
       "      <td>-0.012281</td>\n",
       "      <td>0.027190</td>\n",
       "    </tr>\n",
       "    <tr>\n",
       "      <th>size_desc</th>\n",
       "      <td>0.164461</td>\n",
       "      <td>0.078808</td>\n",
       "      <td>-0.012281</td>\n",
       "      <td>1.000000</td>\n",
       "      <td>0.104620</td>\n",
       "    </tr>\n",
       "    <tr>\n",
       "      <th>total_comp</th>\n",
       "      <td>0.128272</td>\n",
       "      <td>0.093813</td>\n",
       "      <td>0.027190</td>\n",
       "      <td>0.104620</td>\n",
       "      <td>1.000000</td>\n",
       "    </tr>\n",
       "  </tbody>\n",
       "</table>\n",
       "</div>"
      ],
      "text/plain": [
       "                     age  average_salary    Rating  size_desc  total_comp\n",
       "age             1.000000        0.019492  0.024665   0.164461    0.128272\n",
       "average_salary  0.019492        1.000000  0.013492   0.078808    0.093813\n",
       "Rating          0.024665        0.013492  1.000000  -0.012281    0.027190\n",
       "size_desc       0.164461        0.078808 -0.012281   1.000000    0.104620\n",
       "total_comp      0.128272        0.093813  0.027190   0.104620    1.000000"
      ]
     },
     "execution_count": 49,
     "metadata": {},
     "output_type": "execute_result"
    }
   ],
   "source": [
    "df[['age','average_salary','Rating','size_desc','total_comp']].corr()"
   ]
  },
  {
   "cell_type": "code",
   "execution_count": 50,
   "id": "5d864f15",
   "metadata": {},
   "outputs": [
    {
     "data": {
      "image/png": "[encoded data removed]",
      "text/plain": [
       "<Figure size 432x288 with 2 Axes>"
      ]
     },
     "metadata": {
      "needs_background": "light"
     },
     "output_type": "display_data"
    }
   ],
   "source": [
    "import seaborn as sns\n",
    "cmap = sns.diverging_palette(220, 10, as_cmap=True)\n",
    "sns.heatmap(df[['age','average_salary','Rating','size_desc','total_comp']].corr(), vmax=0.3, center=0, cmap=cmap, square=True, linewidths=.5, cbar_kws={\"shrink\": .5})\n",
    "plt.savefig('plot1.png',dpi=100)"
   ]
  },
  {
   "cell_type": "code",
   "execution_count": 51,
   "id": "258a8d14",
   "metadata": {},
   "outputs": [],
   "source": [
    "categorical_data =  df[['Location','Headquarters','Size','Type of ownership','Industry','Sector',\n",
    "                       'Revenue','comp_text','state','same_loc','python', 'R', 'spark', 'aws',\n",
    "       'excel','jobs_cleaned', 'position_level']]"
   ]
  },
  {
   "cell_type": "code",
   "execution_count": 52,
   "id": "1cfc1363",
   "metadata": {},
   "outputs": [
    {
     "name": "stdout",
     "output_type": "stream",
     "text": [
      "graph for Location: total = 20\n"
     ]
    },
    {
     "data": {
      "image/png": "[encoded data removed]",
      "text/plain": [
       "<Figure size 432x288 with 1 Axes>"
      ]
     },
     "metadata": {
      "needs_background": "light"
     },
     "output_type": "display_data"
    },
    {
     "name": "stdout",
     "output_type": "stream",
     "text": [
      "graph for Revenue: total = 14\n"
     ]
    },
    {
     "data": {
      "image/png": "[encoded data removed]",
      "text/plain": [
       "<Figure size 432x288 with 1 Axes>"
      ]
     },
     "metadata": {
      "needs_background": "light"
     },
     "output_type": "display_data"
    },
    {
     "name": "stdout",
     "output_type": "stream",
     "text": [
      "graph for comp_text: total = 20\n"
     ]
    },
    {
     "data": {
      "image/png": "[encoded data removed]",
      "text/plain": [
       "<Figure size 432x288 with 1 Axes>"
      ]
     },
     "metadata": {
      "needs_background": "light"
     },
     "output_type": "display_data"
    }
   ],
   "source": [
    "# df[['average_salary','Location']].hist()\n",
    "# lot of job postings from New york and a lot of head quarters are in new york as well.\n",
    "for i in categorical_data[['Location','Revenue','comp_text']].columns:\n",
    "    data_point = categorical_data[i].value_counts()[:20]\n",
    "    print(\"graph for %s: total = %d\" %(i ,len(data_point)))\n",
    "    figure = sns.barplot(x = data_point.index, y = data_point)\n",
    "    figure.set_xticklabels(figure.get_xticklabels(), rotation = 90)\n",
    "    plt.show()"
   ]
  },
  {
   "cell_type": "code",
   "execution_count": 53,
   "id": "a9a43fb4",
   "metadata": {},
   "outputs": [
    {
     "name": "stdout",
     "output_type": "stream",
     "text": [
      "Plot for number of jobs on the basis of Location: total = 20\n"
     ]
    },
    {
     "data": {
      "image/png": "[encoded data removed]",
      "text/plain": [
       "<Figure size 432x288 with 1 Axes>"
      ]
     },
     "metadata": {
      "needs_background": "light"
     },
     "output_type": "display_data"
    }
   ],
   "source": [
    "data_point = categorical_data['Location'].value_counts()[:20]\n",
    "print(\"Plot for number of jobs on the basis of %s: total = %d\" %('Location' ,len(data_point)))\n",
    "figure = sns.barplot(x = data_point.index, y = data_point)\n",
    "figure.set_xticklabels(figure.get_xticklabels(), rotation = 90)\n",
    "plt.savefig('plot2.png')"
   ]
  },
  {
   "cell_type": "code",
   "execution_count": 54,
   "id": "f5a211c7",
   "metadata": {},
   "outputs": [
    {
     "data": {
      "text/html": [
       "<div>\n",
       "<style scoped>\n",
       "    .dataframe tbody tr th:only-of-type {\n",
       "        vertical-align: middle;\n",
       "    }\n",
       "\n",
       "    .dataframe tbody tr th {\n",
       "        vertical-align: top;\n",
       "    }\n",
       "\n",
       "    .dataframe thead th {\n",
       "        text-align: right;\n",
       "    }\n",
       "</style>\n",
       "<table border=\"1\" class=\"dataframe\">\n",
       "  <thead>\n",
       "    <tr style=\"text-align: right;\">\n",
       "      <th></th>\n",
       "      <th>average_salary</th>\n",
       "    </tr>\n",
       "    <tr>\n",
       "      <th>jobs_cleaned</th>\n",
       "      <th></th>\n",
       "    </tr>\n",
       "  </thead>\n",
       "  <tbody>\n",
       "    <tr>\n",
       "      <th>data analyst</th>\n",
       "      <td>65.857843</td>\n",
       "    </tr>\n",
       "    <tr>\n",
       "      <th>data engineer</th>\n",
       "      <td>105.403361</td>\n",
       "    </tr>\n",
       "    <tr>\n",
       "      <th>data scientist</th>\n",
       "      <td>117.564516</td>\n",
       "    </tr>\n",
       "    <tr>\n",
       "      <th>director</th>\n",
       "      <td>168.607143</td>\n",
       "    </tr>\n",
       "    <tr>\n",
       "      <th>machine learning engineer</th>\n",
       "      <td>126.431818</td>\n",
       "    </tr>\n",
       "    <tr>\n",
       "      <th>manager</th>\n",
       "      <td>84.022727</td>\n",
       "    </tr>\n",
       "    <tr>\n",
       "      <th>none</th>\n",
       "      <td>84.853261</td>\n",
       "    </tr>\n",
       "  </tbody>\n",
       "</table>\n",
       "</div>"
      ],
      "text/plain": [
       "                           average_salary\n",
       "jobs_cleaned                             \n",
       "data analyst                    65.857843\n",
       "data engineer                  105.403361\n",
       "data scientist                 117.564516\n",
       "director                       168.607143\n",
       "machine learning engineer      126.431818\n",
       "manager                         84.022727\n",
       "none                            84.853261"
      ]
     },
     "execution_count": 54,
     "metadata": {},
     "output_type": "execute_result"
    }
   ],
   "source": [
    "pd.pivot_table(df, index = 'jobs_cleaned',values ='average_salary')"
   ]
  },
  {
   "cell_type": "code",
   "execution_count": 55,
   "id": "853989d3",
   "metadata": {},
   "outputs": [
    {
     "name": "stdout",
     "output_type": "stream",
     "text": [
      "Plot for number of jobs on the basis of Sector: total = 20\n"
     ]
    },
    {
     "data": {
      "image/png": "[encoded data removed]",
      "text/plain": [
       "<Figure size 432x288 with 1 Axes>"
      ]
     },
     "metadata": {
      "needs_background": "light"
     },
     "output_type": "display_data"
    }
   ],
   "source": [
    "data_point = categorical_data['Sector'].value_counts()[:20]\n",
    "print(\"Plot for number of jobs on the basis of %s: total = %d\" %('Sector' ,len(data_point)))\n",
    "figure = sns.barplot(x = data_point.index, y = data_point)\n",
    "figure.set_xticklabels(figure.get_xticklabels(), rotation = 90)\n",
    "plt.savefig('plot3.png')"
   ]
  },
  {
   "cell_type": "code",
   "execution_count": 56,
   "id": "a77759b9",
   "metadata": {},
   "outputs": [
    {
     "name": "stdout",
     "output_type": "stream",
     "text": [
      "Plot for number of jobs on the basis of jobs_cleaned: total = 7\n"
     ]
    },
    {
     "data": {
      "image/png": "[encoded data removed]",
      "text/plain": [
       "<Figure size 432x288 with 1 Axes>"
      ]
     },
     "metadata": {
      "needs_background": "light"
     },
     "output_type": "display_data"
    }
   ],
   "source": [
    "data_point = categorical_data['jobs_cleaned'].value_counts()[:20]\n",
    "print(\"Plot for number of jobs on the basis of %s: total = %d\" %('jobs_cleaned' ,len(data_point)))\n",
    "figure = sns.barplot(x = data_point.index, y = data_point)\n",
    "figure.set_xticklabels(figure.get_xticklabels(), rotation = 90)\n",
    "plt.savefig('plot4.png')"
   ]
  },
  {
   "cell_type": "code",
   "execution_count": 57,
   "id": "04e3f247",
   "metadata": {},
   "outputs": [
    {
     "name": "stdout",
     "output_type": "stream",
     "text": [
      "Plot for number of jobs on the basis of Revenue: total = 14\n"
     ]
    },
    {
     "data": {
      "image/png": "[encoded data removed]",
      "text/plain": [
       "<Figure size 432x288 with 1 Axes>"
      ]
     },
     "metadata": {
      "needs_background": "light"
     },
     "output_type": "display_data"
    }
   ],
   "source": [
    "data_point = categorical_data['Revenue'].value_counts()[:20]\n",
    "print(\"Plot for number of jobs on the basis of %s: total = %d\" %('Revenue' ,len(data_point)))\n",
    "figure = sns.barplot(x = data_point.index, y = data_point)\n",
    "figure.set_xticklabels(figure.get_xticklabels(), rotation = 90)\n",
    "plt.savefig('plot5.png')"
   ]
  },
  {
   "cell_type": "code",
   "execution_count": 58,
   "id": "61800209",
   "metadata": {},
   "outputs": [
    {
     "data": {
      "text/html": [
       "<div>\n",
       "<style scoped>\n",
       "    .dataframe tbody tr th:only-of-type {\n",
       "        vertical-align: middle;\n",
       "    }\n",
       "\n",
       "    .dataframe tbody tr th {\n",
       "        vertical-align: top;\n",
       "    }\n",
       "\n",
       "    .dataframe thead th {\n",
       "        text-align: right;\n",
       "    }\n",
       "</style>\n",
       "<table border=\"1\" class=\"dataframe\">\n",
       "  <thead>\n",
       "    <tr style=\"text-align: right;\">\n",
       "      <th></th>\n",
       "      <th></th>\n",
       "      <th>average_salary</th>\n",
       "    </tr>\n",
       "    <tr>\n",
       "      <th>state</th>\n",
       "      <th>jobs_cleaned</th>\n",
       "      <th></th>\n",
       "    </tr>\n",
       "  </thead>\n",
       "  <tbody>\n",
       "    <tr>\n",
       "      <th>CA</th>\n",
       "      <th>data scientist</th>\n",
       "      <td>68</td>\n",
       "    </tr>\n",
       "    <tr>\n",
       "      <th>MA</th>\n",
       "      <th>none</th>\n",
       "      <td>46</td>\n",
       "    </tr>\n",
       "    <tr>\n",
       "      <th>NY</th>\n",
       "      <th>data scientist</th>\n",
       "      <td>40</td>\n",
       "    </tr>\n",
       "    <tr>\n",
       "      <th>MA</th>\n",
       "      <th>data scientist</th>\n",
       "      <td>30</td>\n",
       "    </tr>\n",
       "    <tr>\n",
       "      <th>CA</th>\n",
       "      <th>none</th>\n",
       "      <td>27</td>\n",
       "    </tr>\n",
       "    <tr>\n",
       "      <th>...</th>\n",
       "      <th>...</th>\n",
       "      <td>...</td>\n",
       "    </tr>\n",
       "    <tr>\n",
       "      <th>RI</th>\n",
       "      <th>data analyst</th>\n",
       "      <td>1</td>\n",
       "    </tr>\n",
       "    <tr>\n",
       "      <th>PA</th>\n",
       "      <th>data engineer</th>\n",
       "      <td>1</td>\n",
       "    </tr>\n",
       "    <tr>\n",
       "      <th rowspan=\"2\" valign=\"top\">LA</th>\n",
       "      <th>data analyst</th>\n",
       "      <td>1</td>\n",
       "    </tr>\n",
       "    <tr>\n",
       "      <th>none</th>\n",
       "      <td>1</td>\n",
       "    </tr>\n",
       "    <tr>\n",
       "      <th>OR</th>\n",
       "      <th>data engineer</th>\n",
       "      <td>1</td>\n",
       "    </tr>\n",
       "  </tbody>\n",
       "</table>\n",
       "<p>114 rows × 1 columns</p>\n",
       "</div>"
      ],
      "text/plain": [
       "                      average_salary\n",
       "state jobs_cleaned                  \n",
       "CA    data scientist              68\n",
       "MA    none                        46\n",
       "NY    data scientist              40\n",
       "MA    data scientist              30\n",
       "CA    none                        27\n",
       "...                              ...\n",
       "RI    data analyst                 1\n",
       "PA    data engineer                1\n",
       "LA    data analyst                 1\n",
       "      none                         1\n",
       "OR    data engineer                1\n",
       "\n",
       "[114 rows x 1 columns]"
      ]
     },
     "execution_count": 58,
     "metadata": {},
     "output_type": "execute_result"
    }
   ],
   "source": [
    "pd.pivot_table(df, index = ['state','jobs_cleaned'],values = 'average_salary', aggfunc = 'count').sort_values('average_salary',ascending=False)"
   ]
  },
  {
   "cell_type": "code",
   "execution_count": 59,
   "id": "786888e0",
   "metadata": {},
   "outputs": [
    {
     "data": {
      "text/html": [
       "<div>\n",
       "<style scoped>\n",
       "    .dataframe tbody tr th:only-of-type {\n",
       "        vertical-align: middle;\n",
       "    }\n",
       "\n",
       "    .dataframe tbody tr th {\n",
       "        vertical-align: top;\n",
       "    }\n",
       "\n",
       "    .dataframe thead th {\n",
       "        text-align: right;\n",
       "    }\n",
       "</style>\n",
       "<table border=\"1\" class=\"dataframe\">\n",
       "  <thead>\n",
       "    <tr style=\"text-align: right;\">\n",
       "      <th></th>\n",
       "      <th>average_salary</th>\n",
       "    </tr>\n",
       "    <tr>\n",
       "      <th>state</th>\n",
       "      <th></th>\n",
       "    </tr>\n",
       "  </thead>\n",
       "  <tbody>\n",
       "    <tr>\n",
       "      <th>DC</th>\n",
       "      <td>149.000000</td>\n",
       "    </tr>\n",
       "    <tr>\n",
       "      <th>CA</th>\n",
       "      <td>142.522059</td>\n",
       "    </tr>\n",
       "    <tr>\n",
       "      <th>UT</th>\n",
       "      <td>140.500000</td>\n",
       "    </tr>\n",
       "    <tr>\n",
       "      <th>MO</th>\n",
       "      <td>127.666667</td>\n",
       "    </tr>\n",
       "    <tr>\n",
       "      <th>IL</th>\n",
       "      <td>117.233333</td>\n",
       "    </tr>\n",
       "    <tr>\n",
       "      <th>NC</th>\n",
       "      <td>117.000000</td>\n",
       "    </tr>\n",
       "    <tr>\n",
       "      <th>NY</th>\n",
       "      <td>115.250000</td>\n",
       "    </tr>\n",
       "    <tr>\n",
       "      <th>MA</th>\n",
       "      <td>113.750000</td>\n",
       "    </tr>\n",
       "    <tr>\n",
       "      <th>WI</th>\n",
       "      <td>113.500000</td>\n",
       "    </tr>\n",
       "    <tr>\n",
       "      <th>PA</th>\n",
       "      <td>113.333333</td>\n",
       "    </tr>\n",
       "    <tr>\n",
       "      <th>MD</th>\n",
       "      <td>109.115385</td>\n",
       "    </tr>\n",
       "    <tr>\n",
       "      <th>CO</th>\n",
       "      <td>108.666667</td>\n",
       "    </tr>\n",
       "    <tr>\n",
       "      <th>VA</th>\n",
       "      <td>108.416667</td>\n",
       "    </tr>\n",
       "    <tr>\n",
       "      <th>NJ</th>\n",
       "      <td>106.875000</td>\n",
       "    </tr>\n",
       "    <tr>\n",
       "      <th>MI</th>\n",
       "      <td>106.625000</td>\n",
       "    </tr>\n",
       "    <tr>\n",
       "      <th>OH</th>\n",
       "      <td>105.285714</td>\n",
       "    </tr>\n",
       "    <tr>\n",
       "      <th>TX</th>\n",
       "      <td>100.730769</td>\n",
       "    </tr>\n",
       "    <tr>\n",
       "      <th>WA</th>\n",
       "      <td>99.764706</td>\n",
       "    </tr>\n",
       "    <tr>\n",
       "      <th>OR</th>\n",
       "      <td>98.500000</td>\n",
       "    </tr>\n",
       "    <tr>\n",
       "      <th>FL</th>\n",
       "      <td>97.357143</td>\n",
       "    </tr>\n",
       "    <tr>\n",
       "      <th>TN</th>\n",
       "      <td>96.000000</td>\n",
       "    </tr>\n",
       "    <tr>\n",
       "      <th>IN</th>\n",
       "      <td>84.500000</td>\n",
       "    </tr>\n",
       "    <tr>\n",
       "      <th>KY</th>\n",
       "      <td>84.000000</td>\n",
       "    </tr>\n",
       "    <tr>\n",
       "      <th>CT</th>\n",
       "      <td>84.000000</td>\n",
       "    </tr>\n",
       "    <tr>\n",
       "      <th>GA</th>\n",
       "      <td>81.333333</td>\n",
       "    </tr>\n",
       "    <tr>\n",
       "      <th>NM</th>\n",
       "      <td>74.333333</td>\n",
       "    </tr>\n",
       "    <tr>\n",
       "      <th>AZ</th>\n",
       "      <td>69.500000</td>\n",
       "    </tr>\n",
       "  </tbody>\n",
       "</table>\n",
       "</div>"
      ],
      "text/plain": [
       "       average_salary\n",
       "state                \n",
       "DC         149.000000\n",
       "CA         142.522059\n",
       "UT         140.500000\n",
       "MO         127.666667\n",
       "IL         117.233333\n",
       "NC         117.000000\n",
       "NY         115.250000\n",
       "MA         113.750000\n",
       "WI         113.500000\n",
       "PA         113.333333\n",
       "MD         109.115385\n",
       "CO         108.666667\n",
       "VA         108.416667\n",
       "NJ         106.875000\n",
       "MI         106.625000\n",
       "OH         105.285714\n",
       "TX         100.730769\n",
       "WA          99.764706\n",
       "OR          98.500000\n",
       "FL          97.357143\n",
       "TN          96.000000\n",
       "IN          84.500000\n",
       "KY          84.000000\n",
       "CT          84.000000\n",
       "GA          81.333333\n",
       "NM          74.333333\n",
       "AZ          69.500000"
      ]
     },
     "execution_count": 59,
     "metadata": {},
     "output_type": "execute_result"
    }
   ],
   "source": [
    "# DC is leading in providing better salaries as compared to state new york\n",
    "pd.pivot_table(df[df['jobs_cleaned'] == 'data scientist'], index = 'state', values='average_salary').sort_values('average_salary', ascending = False)"
   ]
  },
  {
   "cell_type": "code",
   "execution_count": 60,
   "id": "7ff0062a",
   "metadata": {},
   "outputs": [],
   "source": [
    "new_df = df[['Rating','Industry','Sector','Revenue','total_comp','Per_Hour','EPS','python','R','spark', 'aws','excel', 'Type of ownership','average_salary']]"
   ]
  },
  {
   "cell_type": "code",
   "execution_count": 61,
   "id": "a095c294",
   "metadata": {},
   "outputs": [
    {
     "name": "stdout",
     "output_type": "stream",
     "text": [
      "Rating\n",
      "        average_salary\n",
      "Rating                \n",
      "-1.0        136.181818\n",
      " 5.0        134.700000\n",
      " 2.5        120.000000\n",
      " 4.5        117.714286\n",
      " 4.1        116.368421\n",
      " 3.9        113.071429\n",
      " 2.6        109.083333\n",
      " 4.4        108.606061\n",
      " 3.2        105.500000\n",
      " 4.0        105.340426\n",
      " 3.5        104.897959\n",
      " 3.7        104.131148\n",
      " 4.7        103.983871\n",
      " 4.3        102.468750\n",
      " 3.3        101.858974\n",
      " 4.2        100.442308\n",
      " 2.2         97.750000\n",
      " 4.6         97.250000\n",
      " 3.8         96.811475\n",
      " 2.1         95.900000\n",
      " 3.4         93.011364\n",
      " 1.9         87.500000\n",
      " 3.1         86.580000\n",
      " 3.0         85.588235\n",
      " 3.6         85.467391\n",
      " 2.8         83.928571\n",
      " 2.7         83.250000\n",
      " 2.3         81.500000\n",
      " 2.9         81.138889\n",
      " 4.8         80.277778\n",
      " 2.4         60.214286\n",
      "Industry\n",
      "                                          average_salary\n",
      "Industry                                                \n",
      "Other Retail Stores                           163.500000\n",
      "Motion Picture Production & Distribution      146.000000\n",
      "Financial Analytics & Research                145.125000\n",
      "Health, Beauty, & Fitness                     139.500000\n",
      "Telecommunications Services                   131.500000\n",
      "Brokerage Services                            129.000000\n",
      "Auctions & Galleries                          128.000000\n",
      "Internet                                      123.810345\n",
      "Investment Banking & Asset Management         118.400000\n",
      "TV Broadcast & Cable Networks                 117.750000\n",
      "Enterprise Software & Network Solutions       115.369048\n",
      "Computer Hardware & Software                  115.194915\n",
      "-1                                            114.650000\n",
      "Accounting                                    113.500000\n",
      "Biotech & Pharmaceuticals                     111.767857\n",
      "Insurance Agencies & Brokerages               109.250000\n",
      "K-12 Education                                108.875000\n",
      "Consulting                                    108.689655\n",
      "Transportation Management                     107.500000\n",
      "Metals Brokers                                107.000000\n",
      "Staffing & Outsourcing                        106.200000\n",
      "Video Games                                   106.166667\n",
      "Insurance Carriers                            105.626984\n",
      "Real Estate                                   104.750000\n",
      "Transportation Equipment Manufacturing        104.500000\n",
      "Advertising & Marketing                       104.300000\n",
      "Wholesale                                     103.166667\n",
      "IT Services                                   102.840000\n",
      "Colleges & Universities                       102.687500\n",
      "Aerospace & Defense                            99.060000\n",
      "Logistics & Supply Chain                       98.250000\n",
      "Gas Stations                                   98.000000\n",
      "Mining                                         98.000000\n",
      "Consumer Products Manufacturing                95.350000\n",
      "Security Services                              93.500000\n",
      "Department, Clothing, & Shoe Stores            92.666667\n",
      "Stock Exchanges                                87.000000\n",
      "Industrial Manufacturing                       86.750000\n",
      "Consumer Product Rental                        86.666667\n",
      "Beauty & Personal Accessories Stores           85.500000\n",
      "Sporting Goods Stores                          85.000000\n",
      "Lending                                        83.000000\n",
      "Farm Support Services                          80.500000\n",
      "Energy                                         80.464286\n",
      "Education Training Services                    79.500000\n",
      "Trucking                                       79.000000\n",
      "Religious Organizations                        78.833333\n",
      "Federal Agencies                               78.545455\n",
      "Research & Development                         78.394737\n",
      "Financial Transaction Processing               76.500000\n",
      "Health Care Products Manufacturing             73.000000\n",
      "Banks & Credit Unions                          70.625000\n",
      "Travel Agencies                                69.500000\n",
      "Health Care Services & Hospitals               67.622449\n",
      "Food & Beverage Manufacturing                  53.250000\n",
      "Architectural & Engineering Services           50.500000\n",
      "Gambling                                       48.500000\n",
      "Social Assistance                              48.166667\n",
      "Telecommunications Manufacturing               44.000000\n",
      "Construction                                   26.500000\n",
      "Sector\n",
      "                                    average_salary\n",
      "Sector                                            \n",
      "Media                                   116.666667\n",
      "-1                                      114.650000\n",
      "Accounting & Legal                      113.500000\n",
      "Information Technology                  113.191667\n",
      "Biotech & Pharmaceuticals               111.767857\n",
      "Insurance                               105.942029\n",
      "Real Estate                             104.750000\n",
      "Mining & Metals                         104.000000\n",
      "Telecommunications                      102.333333\n",
      "Education                               100.739130\n",
      "Consumer Services                        99.875000\n",
      "Retail                                   99.666667\n",
      "Transportation & Logistics               99.312500\n",
      "Aerospace & Defense                      99.060000\n",
      "Business Services                        97.701031\n",
      "Finance                                  97.369048\n",
      "Manufacturing                            84.044118\n",
      "Agriculture & Forestry                   80.500000\n",
      "Oil, Gas, Energy & Utilities             80.464286\n",
      "Government                               78.545455\n",
      "Travel & Tourism                         69.500000\n",
      "Non-Profit                               68.611111\n",
      "Health Care                              67.622449\n",
      "Arts, Entertainment & Recreation         48.500000\n",
      "Construction, Repair & Maintenance       26.500000\n",
      "Revenue\n",
      "                                  average_salary\n",
      "Revenue                                         \n",
      "$5 to $10 million (USD)               126.111111\n",
      "$1 to $5 million (USD)                119.312500\n",
      "-1                                    117.500000\n",
      "$10+ billion (USD)                    115.165323\n",
      "Less than $1 million (USD)            108.625000\n",
      "$1 to $2 billion (USD)                104.533333\n",
      "Unknown / Non-Applicable              104.310345\n",
      "$50 to $100 million (USD)             100.565217\n",
      "$10 to $25 million (USD)              100.359375\n",
      "$2 to $5 billion (USD)                 94.730769\n",
      "$5 to $10 billion (USD)                94.184211\n",
      "$500 million to $1 billion (USD)       86.991228\n",
      "$100 to $500 million (USD)             83.153846\n",
      "$25 to $50 million (USD)               82.837500\n",
      "total_comp\n",
      "            average_salary\n",
      "total_comp                \n",
      "2               106.865854\n",
      "1               106.208333\n",
      "3               105.504386\n",
      "0                97.602174\n",
      "4                56.500000\n",
      "Per_Hour\n",
      "          average_salary\n",
      "Per_Hour                \n",
      "0               103.1539\n",
      "1                25.0000\n",
      "EPS\n",
      "     average_salary\n",
      "EPS                \n",
      "1        119.970588\n",
      "0        100.172414\n",
      "python\n",
      "        average_salary\n",
      "python                \n",
      "1           112.653061\n",
      "0            87.155714\n",
      "R\n",
      "   average_salary\n",
      "R                \n",
      "0      100.706757\n",
      "1       70.750000\n",
      "spark\n",
      "       average_salary\n",
      "spark                \n",
      "1          113.347305\n",
      "0           96.931304\n",
      "aws\n",
      "     average_salary\n",
      "aws                \n",
      "1        112.559659\n",
      "0         96.915194\n",
      "excel\n",
      "       average_salary\n",
      "excel                \n",
      "0          102.953390\n",
      "1           98.502577\n",
      "Type of ownership\n",
      "                                average_salary\n",
      "Type of ownership                             \n",
      "-1                                  117.500000\n",
      "Company - Public                    110.893782\n",
      "Subsidiary or Business Segment      110.573529\n",
      "College / University                107.615385\n",
      "Company - Private                   101.776829\n",
      "Government                           84.300000\n",
      "School / School District             77.750000\n",
      "Other Organization                   77.500000\n",
      "Nonprofit Organization               68.281818\n",
      "Hospital                             54.000000\n",
      "Unknown                              39.500000\n",
      "average_salary\n"
     ]
    }
   ],
   "source": [
    "for x in new_df.columns:\n",
    "    print(x)\n",
    "    if(x != 'average_salary'):\n",
    "        print(pd.pivot_table(new_df, index=x, values='average_salary').sort_values('average_salary', ascending = False))\n",
    "    else:\n",
    "        break"
   ]
  },
  {
   "cell_type": "code",
   "execution_count": 62,
   "id": "da06e1ae",
   "metadata": {},
   "outputs": [
    {
     "data": {
      "text/html": [
       "<div>\n",
       "<style scoped>\n",
       "    .dataframe tbody tr th:only-of-type {\n",
       "        vertical-align: middle;\n",
       "    }\n",
       "\n",
       "    .dataframe tbody tr th {\n",
       "        vertical-align: top;\n",
       "    }\n",
       "\n",
       "    .dataframe thead th {\n",
       "        text-align: right;\n",
       "    }\n",
       "</style>\n",
       "<table border=\"1\" class=\"dataframe\">\n",
       "  <thead>\n",
       "    <tr style=\"text-align: right;\">\n",
       "      <th>python</th>\n",
       "      <th>0</th>\n",
       "      <th>1</th>\n",
       "    </tr>\n",
       "    <tr>\n",
       "      <th>Revenue</th>\n",
       "      <th></th>\n",
       "      <th></th>\n",
       "    </tr>\n",
       "  </thead>\n",
       "  <tbody>\n",
       "    <tr>\n",
       "      <th>$1 to $2 billion (USD)</th>\n",
       "      <td>16.0</td>\n",
       "      <td>44.0</td>\n",
       "    </tr>\n",
       "    <tr>\n",
       "      <th>$1 to $5 million (USD)</th>\n",
       "      <td>1.0</td>\n",
       "      <td>7.0</td>\n",
       "    </tr>\n",
       "    <tr>\n",
       "      <th>$10 to $25 million (USD)</th>\n",
       "      <td>16.0</td>\n",
       "      <td>16.0</td>\n",
       "    </tr>\n",
       "    <tr>\n",
       "      <th>$10+ billion (USD)</th>\n",
       "      <td>66.0</td>\n",
       "      <td>58.0</td>\n",
       "    </tr>\n",
       "    <tr>\n",
       "      <th>$100 to $500 million (USD)</th>\n",
       "      <td>47.0</td>\n",
       "      <td>44.0</td>\n",
       "    </tr>\n",
       "    <tr>\n",
       "      <th>$2 to $5 billion (USD)</th>\n",
       "      <td>17.0</td>\n",
       "      <td>22.0</td>\n",
       "    </tr>\n",
       "    <tr>\n",
       "      <th>$25 to $50 million (USD)</th>\n",
       "      <td>24.0</td>\n",
       "      <td>16.0</td>\n",
       "    </tr>\n",
       "    <tr>\n",
       "      <th>$5 to $10 billion (USD)</th>\n",
       "      <td>9.0</td>\n",
       "      <td>10.0</td>\n",
       "    </tr>\n",
       "    <tr>\n",
       "      <th>$5 to $10 million (USD)</th>\n",
       "      <td>9.0</td>\n",
       "      <td>9.0</td>\n",
       "    </tr>\n",
       "    <tr>\n",
       "      <th>$50 to $100 million (USD)</th>\n",
       "      <td>21.0</td>\n",
       "      <td>25.0</td>\n",
       "    </tr>\n",
       "    <tr>\n",
       "      <th>$500 million to $1 billion (USD)</th>\n",
       "      <td>29.0</td>\n",
       "      <td>28.0</td>\n",
       "    </tr>\n",
       "    <tr>\n",
       "      <th>-1</th>\n",
       "      <td>1.0</td>\n",
       "      <td>NaN</td>\n",
       "    </tr>\n",
       "    <tr>\n",
       "      <th>Less than $1 million (USD)</th>\n",
       "      <td>1.0</td>\n",
       "      <td>3.0</td>\n",
       "    </tr>\n",
       "    <tr>\n",
       "      <th>Unknown / Non-Applicable</th>\n",
       "      <td>93.0</td>\n",
       "      <td>110.0</td>\n",
       "    </tr>\n",
       "  </tbody>\n",
       "</table>\n",
       "</div>"
      ],
      "text/plain": [
       "python                               0      1\n",
       "Revenue                                      \n",
       "$1 to $2 billion (USD)            16.0   44.0\n",
       "$1 to $5 million (USD)             1.0    7.0\n",
       "$10 to $25 million (USD)          16.0   16.0\n",
       "$10+ billion (USD)                66.0   58.0\n",
       "$100 to $500 million (USD)        47.0   44.0\n",
       "$2 to $5 billion (USD)            17.0   22.0\n",
       "$25 to $50 million (USD)          24.0   16.0\n",
       "$5 to $10 billion (USD)            9.0   10.0\n",
       "$5 to $10 million (USD)            9.0    9.0\n",
       "$50 to $100 million (USD)         21.0   25.0\n",
       "$500 million to $1 billion (USD)  29.0   28.0\n",
       "-1                                 1.0    NaN\n",
       "Less than $1 million (USD)         1.0    3.0\n",
       "Unknown / Non-Applicable          93.0  110.0"
      ]
     },
     "execution_count": 62,
     "metadata": {},
     "output_type": "execute_result"
    }
   ],
   "source": [
    "pd.pivot_table(new_df, index='Revenue', columns='python',values='average_salary', aggfunc='count')"
   ]
  },
  {
   "cell_type": "markdown",
   "id": "836a2ed5",
   "metadata": {},
   "source": [
    "### WORDCLOUD"
   ]
  },
  {
   "cell_type": "code",
   "execution_count": 1,
   "id": "e4b6534d",
   "metadata": {},
   "outputs": [
    {
     "name": "stdout",
     "output_type": "stream",
     "text": [
      "showing info https://raw.githubusercontent.com/nltk/nltk_data/gh-pages/index.xml\n"
     ]
    },
    {
     "ename": "NameError",
     "evalue": "name 'df' is not defined",
     "output_type": "error",
     "traceback": [
      "\u001b[0;31m-----------------------------------------------------------------------\u001b[0m",
      "\u001b[0;31mNameError\u001b[0m                             Traceback (most recent call last)",
      "\u001b[0;32m<ipython-input-1-6f2a298c9c4e>\u001b[0m in \u001b[0;36m<module>\u001b[0;34m\u001b[0m\n\u001b[1;32m      1\u001b[0m \u001b[0;32mimport\u001b[0m \u001b[0mnltk\u001b[0m\u001b[0;34m\u001b[0m\u001b[0m\n\u001b[1;32m      2\u001b[0m \u001b[0mnltk\u001b[0m\u001b[0;34m.\u001b[0m\u001b[0mdownload\u001b[0m\u001b[0;34m(\u001b[0m\u001b[0;34m)\u001b[0m\u001b[0;34m\u001b[0m\u001b[0m\n\u001b[0;32m----> 3\u001b[0;31m \u001b[0morig_text\u001b[0m \u001b[0;34m=\u001b[0m \u001b[0;34m\" \"\u001b[0m\u001b[0;34m.\u001b[0m\u001b[0mjoin\u001b[0m\u001b[0;34m(\u001b[0m\u001b[0mdf\u001b[0m\u001b[0;34m[\u001b[0m\u001b[0;34m'Job Description'\u001b[0m\u001b[0;34m]\u001b[0m\u001b[0;34m)\u001b[0m\u001b[0;34m\u001b[0m\u001b[0m\n\u001b[0m\u001b[1;32m      4\u001b[0m \u001b[0;31m#removing stop workds\u001b[0m\u001b[0;34m\u001b[0m\u001b[0;34m\u001b[0m\u001b[0m\n\u001b[1;32m      5\u001b[0m \u001b[0;32mdef\u001b[0m \u001b[0mremove\u001b[0m\u001b[0;34m(\u001b[0m\u001b[0mtext\u001b[0m\u001b[0;34m)\u001b[0m\u001b[0;34m:\u001b[0m\u001b[0;34m\u001b[0m\u001b[0m\n",
      "\u001b[0;31mNameError\u001b[0m: name 'df' is not defined"
     ]
    }
   ],
   "source": [
    "orig_text = \" \".join(df['Job Description'])\n",
    "#removing stop workds \n",
    "def remove(text):\n",
    "    newtext =[]\n",
    "    words = set(stopwords.words('english'))\n",
    "    tokens = word_tokenize(text)\n",
    "    for x in tokens:\n",
    "        if x not in words and x.isalpha():\n",
    "            newtext.append(x.lower())\n",
    "    return newtext\n",
    "final_words = remove(orig_text)\n",
    "special_text = \" \".join([y for y in final_words])\n",
    "# Create and generate a word cloud image:\n",
    "wordcloud = WordCloud(stopwords=STOPWORDS, max_words = 1800).generate(special_text)\n",
    "\n",
    "# Display the generated image:\n",
    "plt.figure(figsize=[10,10])\n",
    "plt.imshow(wordcloud, interpolation='bilinear')\n",
    "plt.axis(\"off\")\n",
    "plt.savefig('wordcloud.png')"
   ]
  },
  {
   "cell_type": "code",
   "execution_count": null,
   "id": "79570e5c",
   "metadata": {},
   "outputs": [],
   "source": []
  },
  {
   "cell_type": "code",
   "execution_count": null,
   "id": "2440fe3c",
   "metadata": {},
   "outputs": [],
   "source": []
  },
  {
   "cell_type": "code",
   "execution_count": null,
   "id": "13a8e8f9",
   "metadata": {},
   "outputs": [],
   "source": []
  }
 ],
 "metadata": {
  "kernelspec": {
   "display_name": "Python 3",
   "language": "python",
   "name": "python3"
  },
  "language_info": {
   "codemirror_mode": {
    "name": "ipython",
    "version": 3
   },
   "file_extension": ".py",
   "mimetype": "text/x-python",
   "name": "python",
   "nbconvert_exporter": "python",
   "pygments_lexer": "ipython3",
   "version": "3.6.2"
  }
 },
 "nbformat": 4,
 "nbformat_minor": 5
}
